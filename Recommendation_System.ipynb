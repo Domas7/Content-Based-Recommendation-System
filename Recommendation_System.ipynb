{
 "cells": [
  {
   "cell_type": "markdown",
   "metadata": {},
   "source": [
    "Lets start by dividing the task into some components that are necessary to implement:\n",
    "\n",
    "1. Data Preprocessing \n",
    "2. Text-Based Product Recommendation\n",
    "3. Image-Based Product Recommendation\n",
    "4. Integration - Combine recommendation systems and get a list of final recommendations\n",
    "5. Evaluation - Fine tunning the parameters"
   ]
  },
  {
   "cell_type": "code",
   "execution_count": null,
   "metadata": {},
   "outputs": [],
   "source": [
    "# Data Preprocessing"
   ]
  }
 ],
 "metadata": {
  "language_info": {
   "name": "python"
  }
 },
 "nbformat": 4,
 "nbformat_minor": 2
}
